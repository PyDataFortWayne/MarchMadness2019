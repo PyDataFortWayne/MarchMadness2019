{
 "cells": [
  {
   "cell_type": "code",
   "execution_count": null,
   "metadata": {},
   "outputs": [],
   "source": [
    "import pandas as pd\n",
    "import numpy as np\n",
    "\n",
    "import os\n",
    "\n",
    "import matplotlib.pyplot as plt\n",
    "import seaborn as sns\n",
    "\n",
    "from sklearn.metrics import log_loss\n",
    "from sklearn.preprocessing import LabelEncoder\n",
    "\n",
    "from IPython.display import display\n",
    "\n",
    "%matplotlib inline"
   ]
  },
  {
   "cell_type": "markdown",
   "metadata": {},
   "source": [
    "# Limitations\n",
    "- In the interest of time and simplicity we will ignore the players and events as part of this year's model. It could be expanded on at a later time to enchance the model with this additional data.\n",
    "- Seeds will not be used as they are a biased ranking"
   ]
  },
  {
   "cell_type": "code",
   "execution_count": null,
   "metadata": {},
   "outputs": [],
   "source": [
    "data_dir = 'data_2019'"
   ]
  },
  {
   "cell_type": "code",
   "execution_count": null,
   "metadata": {},
   "outputs": [],
   "source": [
    "df_teams = pd.read_csv(os.path.join(data_dir, 'Teams.csv'))\n",
    "df_teams.head()"
   ]
  },
  {
   "cell_type": "code",
   "execution_count": null,
   "metadata": {},
   "outputs": [],
   "source": [
    "df_teams['D1Seasons'] = df_teams['LastD1Season'] - df_teams['FirstD1Season']\n",
    "teams_dict = df_teams[['TeamID', 'TeamName']].to_dict()\n",
    "del df_teams['TeamName']\n",
    "df_teams.head()"
   ]
  },
  {
   "cell_type": "code",
   "execution_count": null,
   "metadata": {},
   "outputs": [],
   "source": [
    "df_detailed = pd.read_csv(os.path.join(data_dir, 'RegularSeasonDetailedResults.csv'))\n",
    "df_detailed.head()"
   ]
  },
  {
   "cell_type": "code",
   "execution_count": null,
   "metadata": {},
   "outputs": [],
   "source": [
    "df_detailed['ScoreDiff'] = df_detailed['WScore'] - df_detailed['LScore']"
   ]
  },
  {
   "cell_type": "code",
   "execution_count": null,
   "metadata": {},
   "outputs": [],
   "source": [
    "ignore_cols = ['WLoc']\n",
    "include_cols = ['DayNum', 'Season']\n",
    "w_cols = [c for c in df_detailed \n",
    "          if (c.startswith('W') and c not in ignore_cols) or \n",
    "              c in include_cols]\n",
    "df_stats_W = df_detailed.loc[:, w_cols]\n",
    "c_names = {c:(c[1:] if c not in include_cols else c) for c in df_stats_W}\n",
    "df_stats_W.rename(columns=c_names, inplace=True)\n",
    "df_stats_W['W'] = 1\n",
    "df_stats_W['L'] = 0\n",
    "df_stats_W.head()"
   ]
  },
  {
   "cell_type": "code",
   "execution_count": null,
   "metadata": {},
   "outputs": [],
   "source": [
    "ignore_cols = ['WLoc']\n",
    "include_cols = ['DayNum', 'Season']\n",
    "cols = [c for c in df_detailed if (c.startswith('L') and c not in ignore_cols) or c in include_cols]\n",
    "df_stats_L = df_detailed.loc[:, cols]\n",
    "c_names = {c:(c[1:] if c not in include_cols else c) for c in df_stats_L}\n",
    "df_stats_L.rename(columns=c_names, inplace=True)\n",
    "df_stats_L['W'] = 0\n",
    "df_stats_L['L'] = 1\n",
    "df_stats_L.head()"
   ]
  },
  {
   "cell_type": "code",
   "execution_count": null,
   "metadata": {},
   "outputs": [],
   "source": [
    "df_stats = df_stats_W.append(df_stats_L)\n",
    "df_c_stats = df_stats.groupby(['TeamID', 'Season', 'DayNum']).sum().groupby(level=[0, 1]).cumsum()\n",
    "df_c_stats.reset_index(inplace=True)\n",
    "df_c_stats['GameNum'] = df_c_stats.reset_index().groupby(['TeamID', 'Season']).cumcount() + 1\n",
    "df_c_stats.set_index(['TeamID', 'Season'], inplace=True)\n",
    "df_c_stats.head()"
   ]
  },
  {
   "cell_type": "code",
   "execution_count": null,
   "metadata": {},
   "outputs": [],
   "source": [
    "df_c_stats['FG_PCT'] = df_c_stats['FGM'] / df_c_stats['FGA']\n",
    "df_c_stats['FG3_PCT'] = df_c_stats['FGM3'] / df_c_stats['FGA3']\n",
    "df_c_stats['FT_PCT'] = df_c_stats['FTM'] / df_c_stats['FTA']\n",
    "\n",
    "PGL = ['Score', 'OR', 'DR', 'Ast', 'TO', 'Stl', 'Blk', 'PF']\n",
    "for pg in PGL:\n",
    "    df_c_stats[f'{pg}_PG'] = df_c_stats[pg] / df_c_stats['GameNum']\n",
    "df_c_stats.head()"
   ]
  },
  {
   "cell_type": "code",
   "execution_count": null,
   "metadata": {},
   "outputs": [],
   "source": [
    "mask = (df_c_stats['GameNum'] == 1)\n",
    "df0_i = df_c_stats[mask].copy().index\n",
    "df0 = pd.DataFrame(columns=df_c_stats.columns, index=df0_i)\n",
    "df0 = df0.fillna(0)\n",
    "df_c = df_c_stats.append(df0).reset_index().set_index(['TeamID', 'Season'])\n",
    "df_c"
   ]
  },
  {
   "cell_type": "code",
   "execution_count": null,
   "metadata": {},
   "outputs": [],
   "source": [
    "df_coaches = pd.read_csv(os.path.join(data_dir, 'TeamCoaches.csv'))\n",
    "df_coaches.head()"
   ]
  },
  {
   "cell_type": "code",
   "execution_count": null,
   "metadata": {},
   "outputs": [],
   "source": [
    "df_coaches = df_coaches.sort_values(by=['CoachName', 'Season'])\n",
    "df_coaches['NumDaysCoaching'] = df_coaches['LastDayNum'] - df_coaches['FirstDayNum']\n",
    "df_coaches['TotalDaysCoaching'] = df_coaches.groupby('CoachName')['NumDaysCoaching'].cumsum()\n",
    "\n",
    "# Which iteration the coach as been with the team\n",
    "# Team A -> Team B -> Team A = 1 -> 2 -> 3\n",
    "df_coaches['TeamNumber'] = df_coaches['TeamID'].ne(df_coaches['TeamID'].shift().bfill()).astype(int)\n",
    "df_coaches['TeamNumber'] = df_coaches.groupby(['CoachName'])['TeamNumber'].cumsum()\n",
    "\n",
    "df_coaches['TeamTenure'] = df_coaches.groupby(['CoachName', 'TeamNumber'])['NumDaysCoaching'].cumsum()\n",
    "df_coaches.sample(20)"
   ]
  },
  {
   "cell_type": "code",
   "execution_count": null,
   "metadata": {},
   "outputs": [],
   "source": [
    "le_coach = LabelEncoder()\n",
    "df_coaches['CoachName'] = le_coach.fit_transform(df_coaches['CoachName'].values)"
   ]
  },
  {
   "cell_type": "code",
   "execution_count": null,
   "metadata": {},
   "outputs": [],
   "source": [
    "def calc_gameid(row):\n",
    "    min_id = min(row['WTeamID'], row['LTeamID'])\n",
    "    max_id = max(row['WTeamID'], row['LTeamID'])\n",
    "    season = row['Season']\n",
    "    return f'{season}_{min_id}_{max_id}'"
   ]
  },
  {
   "cell_type": "code",
   "execution_count": null,
   "metadata": {},
   "outputs": [],
   "source": [
    "df_detailed_team_W = pd.merge(left = df_detailed,\n",
    "        right = df_teams,\n",
    "        left_on = ['WTeamID'],\n",
    "        right_on = ['TeamID'])\n",
    "\n",
    "df_detailed_team_L = pd.merge(left = df_detailed_team_W,\n",
    "        right = df_teams,\n",
    "        left_on = ['LTeamID'],\n",
    "        right_on = ['TeamID'],\n",
    "        suffixes = ('_W', '_L'))\n"
   ]
  },
  {
   "cell_type": "code",
   "execution_count": null,
   "metadata": {},
   "outputs": [],
   "source": [
    "df_master = pd.merge(left = df_detailed_team_W,\n",
    "         right = df_detailed_team_L,\n",
    "         on = list(df_detailed.columns),\n",
    "         suffixes = ('_W', '_L')\n",
    "        )\n",
    "\n",
    "df_master = pd.merge(\n",
    "    left = df_master,\n",
    "    right = df_coaches,\n",
    "    left_on = ['Season', 'WTeamID'],\n",
    "    right_on = ['Season', 'TeamID']#,\n",
    "    #suffixes = ('_W', '_L')\n",
    ")\n",
    "\n",
    "df_master = pd.merge(\n",
    "    left = df_master,\n",
    "    right = df_coaches,\n",
    "    left_on = ['Season', 'LTeamID'],\n",
    "    right_on = ['Season', 'TeamID'],\n",
    "     suffixes = ('_W', '_L')\n",
    ")\n",
    "df_master.sample(20)"
   ]
  },
  {
   "cell_type": "code",
   "execution_count": null,
   "metadata": {},
   "outputs": [],
   "source": [
    "df_master['Team1'] = df_master.apply(lambda r: sorted([r['WTeamID'], r['LTeamID']])[0], axis=1)\n",
    "df_master['Team2'] = df_master.apply(lambda r: sorted([r['WTeamID'], r['LTeamID']])[1], axis=1)\n",
    "df_master['Pred'] = df_master['Team1'] == df_master['TeamID']\n",
    "df_master['Pred'] = df_master['Pred'].astype(float)\n",
    "df_master['ScoreDiffNorm'] = df_master.apply(lambda r: r['ScoreDiff'] * -1 if r['Pred'] == 0 else r['ScoreDiff'], axis=1)\n",
    "df_master['Team1W'] = df_master['Team1'] == df_master['WTeamID']\n",
    "df_master['Team1L'] = df_master['Team1'] == df_master['LTeamID']\n",
    "df_master['Team2W'] = df_master['Team2'] == df_master['WTeamID']\n",
    "df_master['Team2L'] = df_master['Team2'] == df_master['LTeamID']\n",
    "# df_master['Team1W'] = df_master.groupby(['Season', 'Team1')['Team1W'].cumsum()\n",
    "# df_master['Team2W'] = df_master.groupby('Team2')['Team2W'].cumsum()\n",
    "# df_master['Team1L'] = df_master.groupby('Team1')['Team1L'].cumsum()\n",
    "# df_master['Team2L'] = df_master.groupby('Team2')['Team2L'].cumsum()"
   ]
  },
  {
   "cell_type": "code",
   "execution_count": null,
   "metadata": {},
   "outputs": [],
   "source": [
    "df_master.groupby(['TeamID', 'Season', 'GameNum'])[['Team1W', 'Team1L', 'Team2W', 'Team1W']].sum() #.groupby(level=[0]).cumsum()"
   ]
  },
  {
   "cell_type": "code",
   "execution_count": null,
   "metadata": {},
   "outputs": [],
   "source": [
    "df_master.head()"
   ]
  },
  {
   "cell_type": "markdown",
   "metadata": {},
   "source": [
    "Filter out coaches based on the game day to handle coaches who are replaced mid-season"
   ]
  },
  {
   "cell_type": "code",
   "execution_count": null,
   "metadata": {},
   "outputs": [],
   "source": [
    "mask = (df_master['FirstDayNum_L'] <= df_master['DayNum'])\n",
    "mask = mask & (df_master['LastDayNum_L'] >= df_master['DayNum'])\n",
    "mask = mask & (df_master['FirstDayNum_W'] <= df_master['DayNum'])\n",
    "mask = mask & (df_master['LastDayNum_W'] >= df_master['DayNum'])"
   ]
  },
  {
   "cell_type": "code",
   "execution_count": null,
   "metadata": {},
   "outputs": [],
   "source": [
    "df_master = df_master.loc[mask, :]"
   ]
  },
  {
   "cell_type": "code",
   "execution_count": null,
   "metadata": {},
   "outputs": [],
   "source": [
    "df_master.sample(20)"
   ]
  },
  {
   "cell_type": "code",
   "execution_count": null,
   "metadata": {},
   "outputs": [],
   "source": [
    "from sklearn.linear_model import LogisticRegression"
   ]
  },
  {
   "cell_type": "code",
   "execution_count": null,
   "metadata": {},
   "outputs": [],
   "source": [
    "lr = LogisticRegression(solver='lbfgs')"
   ]
  },
  {
   "cell_type": "code",
   "execution_count": null,
   "metadata": {},
   "outputs": [],
   "source": [
    "from sklearn.model_selection import train_test_split"
   ]
  },
  {
   "cell_type": "code",
   "execution_count": null,
   "metadata": {},
   "outputs": [],
   "source": [
    "columns = [c for c in df_master if c not in ['WTeamID', 'LTeamID', 'ScoreDiff', 'TeamID']]"
   ]
  },
  {
   "cell_type": "code",
   "execution_count": null,
   "metadata": {},
   "outputs": [],
   "source": [
    "X = df_master[columns]\n",
    "y = df_master.pop('Pred')\n",
    "X_train, X_test, y_train, y_test = train_test_split(X, y, test_size=0.2, random_state=8675309)"
   ]
  },
  {
   "cell_type": "code",
   "execution_count": null,
   "metadata": {},
   "outputs": [],
   "source": [
    "lr.fit(X_train, y_train)"
   ]
  },
  {
   "cell_type": "code",
   "execution_count": null,
   "metadata": {},
   "outputs": [],
   "source": [
    "p = lr.predict(X_test).clip(0.000001, 0.999998)"
   ]
  },
  {
   "cell_type": "code",
   "execution_count": null,
   "metadata": {},
   "outputs": [],
   "source": [
    "print('Log Loss:', log_loss(y_test, p))"
   ]
  },
  {
   "cell_type": "markdown",
   "metadata": {},
   "source": [
    "# TODO:\n",
    "* [ ] calculate team wins and losses rolling for the season\n",
    "  * Added Game 0 Values, just need to determine how to shift W/L columns down to show values coming into game\n",
    "* [X] calculate rolling detailed stats FG %, FT %, 3PT %\n",
    "  * [ ] shift to be stats prior to game?\n",
    "  * How handle first game of season as shift will make all stats NaN? Currently filling all stats with 0\n",
    "* [X] DO NOT USE SCORE"
   ]
  }
 ],
 "metadata": {
  "kernelspec": {
   "display_name": "Python 3",
   "language": "python",
   "name": "python3"
  },
  "language_info": {
   "codemirror_mode": {
    "name": "ipython",
    "version": 3
   },
   "file_extension": ".py",
   "mimetype": "text/x-python",
   "name": "python",
   "nbconvert_exporter": "python",
   "pygments_lexer": "ipython3",
   "version": "3.7.1"
  }
 },
 "nbformat": 4,
 "nbformat_minor": 2
}
