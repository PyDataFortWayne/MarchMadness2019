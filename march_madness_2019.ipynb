{
 "cells": [
  {
   "cell_type": "code",
   "execution_count": null,
   "metadata": {},
   "outputs": [],
   "source": [
    "import pandas as pd\n",
    "import numpy as np\n",
    "\n",
    "import os\n",
    "\n",
    "import matplotlib.pyplot as plt\n",
    "import seaborn as sns\n",
    "\n",
    "from sklearn.metrics import log_loss\n",
    "\n",
    "from IPython.display import display\n",
    "\n",
    "%matplotlib inline"
   ]
  },
  {
   "cell_type": "markdown",
   "metadata": {},
   "source": [
    "# Limitations\n",
    "- In the interest of time and simplicity we will ignore the players and events as part of this year's model. It could be expanded on at a later time to enchance the model with this additional data.\n",
    "- Seeds will not be used as they are a biased ranking"
   ]
  },
  {
   "cell_type": "code",
   "execution_count": null,
   "metadata": {},
   "outputs": [],
   "source": [
    "data_dir = 'data_2018'"
   ]
  },
  {
   "cell_type": "code",
   "execution_count": null,
   "metadata": {},
   "outputs": [],
   "source": [
    "df_teams = pd.read_csv(os.path.join(data_dir, 'Teams.csv'))\n",
    "df_teams.head()"
   ]
  },
  {
   "cell_type": "code",
   "execution_count": null,
   "metadata": {},
   "outputs": [],
   "source": [
    "df_teams['D1Seasons'] = df_teams['LastD1Season'] - df_teams['FirstD1Season']\n",
    "df_teams.head()"
   ]
  },
  {
   "cell_type": "code",
   "execution_count": null,
   "metadata": {},
   "outputs": [],
   "source": [
    "df_detailed = pd.read_csv(os.path.join(data_dir, 'RegularSeasonDetailedResults.csv'))\n",
    "df_detailed.head()"
   ]
  },
  {
   "cell_type": "code",
   "execution_count": null,
   "metadata": {},
   "outputs": [],
   "source": [
    "df_coaches = pd.read_csv(os.path.join(data_dir, 'TeamCoaches.csv'))\n",
    "df_coaches.head()"
   ]
  },
  {
   "cell_type": "code",
   "execution_count": null,
   "metadata": {},
   "outputs": [],
   "source": [
    "df_coaches = df_coaches.sort_values(by=['CoachName', 'Season'])\n",
    "df_coaches['NumDaysCoaching'] = df_coaches['LastDayNum'] - df_coaches['FirstDayNum']\n",
    "df_coaches['TotalDaysCoaching'] = df_coaches.groupby('CoachName')['NumDaysCoaching'].cumsum()\n",
    "\n",
    "# Which iteration the coach as been with the team\n",
    "# Team A -> Team B -> Team A = 1 -> 2 -> 3\n",
    "df_coaches['TeamNumber'] = df_coaches['TeamID'].ne(df_coaches['TeamID'].shift().bfill()).astype(int)\n",
    "df_coaches['TeamNumber'] = df_coaches.groupby(['CoachName'])['TeamNumber'].cumsum()\n",
    "\n",
    "df_coaches['TeamTenure'] = df_coaches.groupby(['CoachName', 'TeamNumber'])['NumDaysCoaching'].cumsum()\n",
    "df_coaches.sample(20)"
   ]
  },
  {
   "cell_type": "code",
   "execution_count": null,
   "metadata": {},
   "outputs": [],
   "source": [
    "def calc_gameid(row):\n",
    "    min_id = min(row['WTeamID'], row['LTeamID'])\n",
    "    max_id = max(row['WTeamID'], row['LTeamID'])\n",
    "    season = row['Season']\n",
    "    return f'{season}_{min_id}_{max_id}'"
   ]
  },
  {
   "cell_type": "code",
   "execution_count": null,
   "metadata": {},
   "outputs": [],
   "source": [
    "df_detailed['GameID'] = df_detailed.apply(calc_gameid, axis='columns')"
   ]
  },
  {
   "cell_type": "code",
   "execution_count": null,
   "metadata": {},
   "outputs": [],
   "source": [
    "df_detailed_team_W = pd.merge(left = df_detailed,\n",
    "        right = df_teams,\n",
    "        left_on = ['WTeamID'],\n",
    "        right_on = ['TeamID'])\n",
    "\n",
    "df_detailed_team_L = pd.merge(left = df_detailed_team_W,\n",
    "        right = df_teams,\n",
    "        left_on = ['LTeamID'],\n",
    "        right_on = ['TeamID'],\n",
    "        suffixes = ('_W', '_L'))\n",
    "\n",
    "df_master = pd.merge(left = df_detailed_team_W,\n",
    "         right = df_detailed_team_L,\n",
    "         on = list(df_detailed.columns),\n",
    "         suffixes = ('_W', '_L')\n",
    "        )\n",
    "\n",
    "df_master = pd.merge(\n",
    "    left = df_master,\n",
    "    right = df_coaches,\n",
    "    left_on = ['Season', 'WTeamID'],\n",
    "    right_on = ['Season', 'TeamID']#,\n",
    "    #suffixes = ('_W', '_L')\n",
    ")\n",
    "\n",
    "df_master = pd.merge(\n",
    "    left = df_master,\n",
    "    right = df_coaches,\n",
    "    left_on = ['Season', 'LTeamID'],\n",
    "    right_on = ['Season', 'TeamID'],\n",
    "     suffixes = ('_W', '_L')\n",
    ")\n",
    "df_master"
   ]
  },
  {
   "cell_type": "code",
   "execution_count": null,
   "metadata": {},
   "outputs": [],
   "source": [
    "df_master['GameID'].value_counts()"
   ]
  },
  {
   "cell_type": "markdown",
   "metadata": {},
   "source": [
    "Filter out coaches based on the game day to handle coaches who are replaced mid-season"
   ]
  },
  {
   "cell_type": "code",
   "execution_count": null,
   "metadata": {},
   "outputs": [],
   "source": [
    "mask = (df_master['FirstDayNum_L'] <= df_master['DayNum'])\n",
    "mask = mask & (df_master['LastDayNum_L'] >= df_master['DayNum'])\n",
    "mask = mask & (df_master['FirstDayNum_W'] <= df_master['DayNum'])\n",
    "mask = mask & (df_master['LastDayNum_W'] >= df_master['DayNum'])\n",
    "df_master.loc[mask, 'GameID'].value_counts()\n"
   ]
  },
  {
   "cell_type": "code",
   "execution_count": null,
   "metadata": {},
   "outputs": [],
   "source": [
    "df_master = df_master.loc[mask, :]"
   ]
  },
  {
   "cell_type": "code",
   "execution_count": null,
   "metadata": {},
   "outputs": [],
   "source": [
    "df_master.sample(20)"
   ]
  }
 ],
 "metadata": {
  "kernelspec": {
   "display_name": "Python 3",
   "language": "python",
   "name": "python3"
  },
  "language_info": {
   "codemirror_mode": {
    "name": "ipython",
    "version": 3
   },
   "file_extension": ".py",
   "mimetype": "text/x-python",
   "name": "python",
   "nbconvert_exporter": "python",
   "pygments_lexer": "ipython3",
   "version": "3.6.7"
  }
 },
 "nbformat": 4,
 "nbformat_minor": 2
}
