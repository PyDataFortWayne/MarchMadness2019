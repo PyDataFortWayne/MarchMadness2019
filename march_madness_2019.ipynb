{
 "cells": [
  {
   "cell_type": "code",
   "execution_count": null,
   "metadata": {},
   "outputs": [],
   "source": [
    "import pandas as pd\n",
    "import numpy as np\n",
    "\n",
    "import os\n",
    "\n",
    "import matplotlib.pyplot as plt\n",
    "import seaborn as sns\n",
    "\n",
    "from sklearn.metrics import log_loss\n",
    "from sklearn.preprocessing import LabelEncoder\n",
    "\n",
    "from IPython.display import display\n",
    "\n",
    "%matplotlib inline"
   ]
  },
  {
   "cell_type": "markdown",
   "metadata": {},
   "source": [
    "# Limitations\n",
    "- In the interest of time and simplicity we will ignore the players and events as part of this year's model. It could be expanded on at a later time to enchance the model with this additional data.\n",
    "- Seeds will not be used as they are a biased ranking"
   ]
  },
  {
   "cell_type": "code",
   "execution_count": null,
   "metadata": {},
   "outputs": [],
   "source": [
    "data_dir = 'data_2019'"
   ]
  },
  {
   "cell_type": "code",
   "execution_count": null,
   "metadata": {},
   "outputs": [],
   "source": [
    "df_teams = pd.read_csv(os.path.join(data_dir, 'Teams.csv'))\n",
    "df_teams.head()"
   ]
  },
  {
   "cell_type": "code",
   "execution_count": null,
   "metadata": {},
   "outputs": [],
   "source": [
    "df_teams['D1Seasons'] = df_teams['LastD1Season'] - df_teams['FirstD1Season']\n",
    "teams_dict = df_teams[['TeamID', 'TeamName']].to_dict()\n",
    "del df_teams['TeamName']\n",
    "df_teams.head()"
   ]
  },
  {
   "cell_type": "code",
   "execution_count": null,
   "metadata": {},
   "outputs": [],
   "source": [
    "df_detailed = pd.read_csv(os.path.join(data_dir, 'RegularSeasonDetailedResults.csv'))\n",
    "df_detailed.head()"
   ]
  },
  {
   "cell_type": "code",
   "execution_count": null,
   "metadata": {},
   "outputs": [],
   "source": [
    "df_detailed['ScoreDiff'] = df_detailed['WScore'] - df_detailed['LScore']"
   ]
  },
  {
   "cell_type": "code",
   "execution_count": null,
   "metadata": {},
   "outputs": [],
   "source": [
    "ignore_cols = ['WLoc']\n",
    "include_cols = ['DayNum', 'Season']\n",
    "w_cols = [c for c in df_detailed \n",
    "          if (c.startswith('W') and c not in ignore_cols) or \n",
    "              c in include_cols]\n",
    "df_stats_W = df_detailed.loc[:, w_cols]\n",
    "c_names = {c:(c[1:] if c not in include_cols else c) for c in df_stats_W}\n",
    "df_stats_W.rename(columns=c_names, inplace=True)\n",
    "df_stats_W['W'] = 1\n",
    "df_stats_W['L'] = 0\n",
    "df_stats_W.head()"
   ]
  },
  {
   "cell_type": "code",
   "execution_count": null,
   "metadata": {},
   "outputs": [],
   "source": [
    "ignore_cols = ['WLoc']\n",
    "include_cols = ['DayNum', 'Season']\n",
    "cols = [c for c in df_detailed if (c.startswith('L') and c not in ignore_cols) or c in include_cols]\n",
    "df_stats_L = df_detailed.loc[:, cols]\n",
    "c_names = {c:(c[1:] if c not in include_cols else c) for c in df_stats_L}\n",
    "df_stats_L.rename(columns=c_names, inplace=True)\n",
    "df_stats_L['W'] = 0\n",
    "df_stats_L['L'] = 1\n",
    "df_stats_L.head()"
   ]
  },
  {
   "cell_type": "code",
   "execution_count": null,
   "metadata": {},
   "outputs": [],
   "source": [
    "df_stats = df_stats_W.append(df_stats_L)\n",
    "df_stats = df_stats.sort_values(by=['TeamID', 'Season', 'DayNum'])\n",
    "df_stats.head()"
   ]
  },
  {
   "cell_type": "code",
   "execution_count": null,
   "metadata": {
    "scrolled": true
   },
   "outputs": [],
   "source": [
    "df_c_stats = df_stats.groupby(['TeamID', 'Season', 'DayNum']).sum().groupby(level=[0, 1]).cumsum()\n",
    "df_c_stats.reset_index(inplace=True)\n",
    "df_c_stats['GameNum'] = df_c_stats.reset_index().groupby(['TeamID', 'Season']).cumcount() + 1\n",
    "df_c_stats.set_index(['TeamID', 'Season'], inplace=True)\n",
    "df_c_stats.head()"
   ]
  },
  {
   "cell_type": "code",
   "execution_count": null,
   "metadata": {},
   "outputs": [],
   "source": [
    "df_c_stats['FG_PCT'] = df_c_stats['FGM'] / df_c_stats['FGA']\n",
    "df_c_stats['FG3_PCT'] = df_c_stats['FGM3'] / df_c_stats['FGA3']\n",
    "df_c_stats['FT_PCT'] = df_c_stats['FTM'] / df_c_stats['FTA']\n",
    "\n",
    "PGL = ['Score', 'OR', 'DR', 'Ast', 'TO', 'Stl', 'Blk', 'PF']\n",
    "for pg in PGL:\n",
    "    df_c_stats[f'{pg}_PG'] = df_c_stats[pg] / df_c_stats['GameNum']\n",
    "df_c_stats.head()"
   ]
  },
  {
   "cell_type": "code",
   "execution_count": null,
   "metadata": {},
   "outputs": [],
   "source": [
    "df_result = df_detailed.loc[:, ['Season', 'DayNum', 'WTeamID', 'LTeamID']]\n",
    "df_result['TeamID1'] = df_result.apply(lambda row: sorted([row['WTeamID'], row['LTeamID']])[0], axis=1)\n",
    "df_result['TeamID2'] = df_result.apply(lambda row: sorted([row['WTeamID'], row['LTeamID']])[1], axis=1)\n",
    "df_result['Pred'] = df_result['TeamID1'] == df_result['WTeamID']\n",
    "df_result['Pred'] = df_result['Pred'].astype(float)\n",
    "del df_result['WTeamID']\n",
    "del df_result['LTeamID']\n",
    "df_result.head()"
   ]
  },
  {
   "cell_type": "code",
   "execution_count": null,
   "metadata": {},
   "outputs": [],
   "source": [
    "df_coaches = pd.read_csv(os.path.join(data_dir, 'TeamCoaches.csv'))\n",
    "df_coaches.head()"
   ]
  },
  {
   "cell_type": "code",
   "execution_count": null,
   "metadata": {},
   "outputs": [],
   "source": [
    "# Which iteration the coach as been with the team\n",
    "# Team A -> Team B -> Team A = 1 -> 2 -> 3\n",
    "\n",
    "df_coaches = df_coaches.sort_values(by=['CoachName', 'Season'])\n",
    "df_coaches['TeamNumber'] = df_coaches['TeamID'].ne(df_coaches['TeamID'].shift().bfill()).astype(int)\n",
    "df_coaches['TeamNumber'] = df_coaches.groupby(['CoachName'])['TeamNumber'].cumsum()\n",
    "df_coaches.head(30)"
   ]
  },
  {
   "cell_type": "code",
   "execution_count": null,
   "metadata": {},
   "outputs": [],
   "source": [
    "# Handle special scenario where some coaches start with team number 0 instead of 1\n",
    "\n",
    "team_number_0_coaches = df_coaches[df_coaches['TeamNumber']==0]['CoachName'].unique()\n",
    "row_filter = df_coaches['CoachName'].isin(team_number_0_coaches)\n",
    "df_coaches.loc[row_filter, 'TeamNumber'] = df_coaches.loc[row_filter, 'TeamNumber'] + 1"
   ]
  },
  {
   "cell_type": "code",
   "execution_count": null,
   "metadata": {},
   "outputs": [],
   "source": [
    "df_coaches.head()"
   ]
  },
  {
   "cell_type": "code",
   "execution_count": null,
   "metadata": {},
   "outputs": [],
   "source": [
    "def calc_gameid(row):\n",
    "    min_id = min(row['WTeamID'], row['LTeamID'])\n",
    "    max_id = max(row['WTeamID'], row['LTeamID'])\n",
    "    season = row['Season']\n",
    "    return f'{season}_{min_id}_{max_id}'"
   ]
  },
  {
   "cell_type": "code",
   "execution_count": null,
   "metadata": {},
   "outputs": [],
   "source": [
    "df_c_pg = df_c_stats.loc[:, ['W', 'L', 'GameNum', 'DayNum', 'FG_PCT',\n",
    "       'FG3_PCT', 'FT_PCT', 'Score_PG', 'OR_PG', 'DR_PG', 'Ast_PG', 'TO_PG',\n",
    "       'Stl_PG', 'Blk_PG', 'PF_PG']]\n",
    "\n",
    "mask = (df_c_pg['GameNum'] == 1)\n",
    "df0_i = df_c_pg[mask].copy().index\n",
    "df0 = pd.DataFrame(columns=df_c_pg.columns, index=df0_i)\n",
    "df0 = df0.fillna(0)\n",
    "df_c = df_c_pg.append(df0).reset_index()\n",
    "df_c.head()\n",
    "\n",
    "df_c_pg.head()"
   ]
  },
  {
   "cell_type": "code",
   "execution_count": null,
   "metadata": {},
   "outputs": [],
   "source": [
    "for shift_col in ['W', 'L', 'FG_PCT',\n",
    "       'FG3_PCT', 'FT_PCT', 'Score_PG', 'OR_PG', 'DR_PG', 'Ast_PG', 'TO_PG',\n",
    "       'Stl_PG', 'Blk_PG', 'PF_PG']:\n",
    "    #df_c_pg[shift_col] = df_c_pg[shift_col].shift(1)\n",
    "    df_c_pg[shift_col] = df_c_pg.groupby(level=[0,1])[shift_col].shift(1)\n",
    "\n",
    "df_c_pg = df_c_pg.dropna()\n",
    "df_c_pg.head()"
   ]
  },
  {
   "cell_type": "code",
   "execution_count": null,
   "metadata": {},
   "outputs": [],
   "source": [
    "df_c_pg[df_c_pg['GameNum']==1]"
   ]
  },
  {
   "cell_type": "code",
   "execution_count": null,
   "metadata": {},
   "outputs": [],
   "source": [
    "df_c_pg_coaches = pd.merge(\n",
    "    left = df_c_pg.reset_index(),\n",
    "    right = df_coaches,\n",
    "    on = ['TeamID', 'Season']\n",
    ")\n",
    "\n",
    "# Filter out coaches based on the game day to handle coaches who are replaced mid-season\n",
    "mask = (df_c_pg_coaches['FirstDayNum'] <= df_c_pg_coaches['DayNum'])\n",
    "mask = mask & (df_c_pg_coaches['LastDayNum'] >= df_c_pg_coaches['DayNum'])\n",
    "df_c_pg_coaches = df_c_pg_coaches[mask]\n",
    "df_c_pg_coaches.head()"
   ]
  },
  {
   "cell_type": "code",
   "execution_count": null,
   "metadata": {},
   "outputs": [],
   "source": [
    "df_c_pg_coaches['SeasonsCoaching'] = df_c_pg_coaches['Season'] - df_c_pg_coaches.groupby('CoachName')['Season'].transform('min')\n",
    "del df_c_pg_coaches['FirstDayNum']\n",
    "del df_c_pg_coaches['LastDayNum']\n",
    "df_c_pg_coaches.head(30)"
   ]
  },
  {
   "cell_type": "code",
   "execution_count": null,
   "metadata": {},
   "outputs": [],
   "source": [
    "one_hot = pd.get_dummies(df_c_pg_coaches['CoachName'])\n",
    "df_c_pg_coaches = df_c_pg_coaches.drop('CoachName', axis=1)\n",
    "df_c_pg_coaches = df_c_pg_coaches.join(one_hot)\n",
    "df_c_pg_coaches.head()"
   ]
  },
  {
   "cell_type": "code",
   "execution_count": null,
   "metadata": {},
   "outputs": [],
   "source": [
    "df_result_team1_details = pd.merge(\n",
    "    left = df_c_pg_coaches,\n",
    "    right = df_result,\n",
    "    left_index = False,\n",
    "    left_on = ['Season', 'DayNum', 'TeamID'],\n",
    "    right_index = False,\n",
    "    right_on = ['Season', 'DayNum', 'TeamID1']\n",
    ")\n",
    "df_result_team1_details.head()\n",
    "\n",
    "df_result_team_details = pd.merge(\n",
    "    left = df_c_pg_coaches,\n",
    "    right = df_result_team1_details,\n",
    "    left_index = False,\n",
    "    left_on = ['Season', 'DayNum', 'TeamID'],\n",
    "    right_index = False,\n",
    "    right_on = ['Season', 'DayNum', 'TeamID2'],\n",
    "    suffixes = ('_Team1', '_Team2')\n",
    ")\n",
    "\n",
    "df_result_team_details.head()"
   ]
  },
  {
   "cell_type": "code",
   "execution_count": null,
   "metadata": {},
   "outputs": [],
   "source": [
    "from sklearn.linear_model import LogisticRegression\n",
    "from sklearn.model_selection import train_test_split"
   ]
  },
  {
   "cell_type": "code",
   "execution_count": null,
   "metadata": {},
   "outputs": [],
   "source": [
    "columns = [c for c in df_result_team_details if c not in ['TeamID1', 'TeamID2']]"
   ]
  },
  {
   "cell_type": "code",
   "execution_count": null,
   "metadata": {},
   "outputs": [],
   "source": [
    "df_master = df_result_team_details.copy()\n",
    "X = df_result_team_details[columns]\n",
    "y = df_result_team_details.pop('Pred')\n",
    "X_train, X_test, y_train, y_test = train_test_split(X, y, test_size=0.2, random_state=8675309)"
   ]
  },
  {
   "cell_type": "code",
   "execution_count": null,
   "metadata": {},
   "outputs": [],
   "source": [
    "lr = LogisticRegression(solver='lbfgs', max_iter=10000)\n",
    "lr.fit(X_train, y_train)"
   ]
  },
  {
   "cell_type": "code",
   "execution_count": null,
   "metadata": {},
   "outputs": [],
   "source": [
    "p = lr.predict_proba(X_test).clip(0.0000001, 0.99999999)"
   ]
  },
  {
   "cell_type": "code",
   "execution_count": null,
   "metadata": {},
   "outputs": [],
   "source": [
    "print('Log Loss:', log_loss(y_test, p))"
   ]
  },
  {
   "cell_type": "markdown",
   "metadata": {},
   "source": [
    "# TODO:\n",
    "* [X] calculate team wins and losses rolling for the season\n",
    "  * Added Game 0 Values, just need to determine how to shift W/L columns down to show values coming into game\n",
    "* [X] calculate rolling detailed stats FG %, FT %, 3PT %\n",
    "  * [X] shift to be stats prior to game?\n",
    "  * How handle first game of season as shift will make all stats NaN? Ignore first game of season.\n",
    "* [X] DO NOT USE SCORE (We won't know it when predicting future games. We can use the season average score though)\n",
    "* [X] Fine tune coach tenure (first season games are all currently 154 but it should be 0, 7, 14, 21 etc)\n",
    "* [X] One hot encode coaches?\n",
    "* [X] Shift per group not over all dataframe"
   ]
  }
 ],
 "metadata": {
  "kernelspec": {
   "display_name": "Python 3",
   "language": "python",
   "name": "python3"
  },
  "language_info": {
   "codemirror_mode": {
    "name": "ipython",
    "version": 3
   },
   "file_extension": ".py",
   "mimetype": "text/x-python",
   "name": "python",
   "nbconvert_exporter": "python",
   "pygments_lexer": "ipython3",
   "version": "3.7.1"
  }
 },
 "nbformat": 4,
 "nbformat_minor": 2
}
